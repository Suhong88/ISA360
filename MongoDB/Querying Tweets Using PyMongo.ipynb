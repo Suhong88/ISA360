{
 "cells": [
  {
   "cell_type": "markdown",
   "metadata": {},
   "source": [
    "This notebook shows how to connect to a local mongodb database, query a collection, and visualize the result using matplotlib."
   ]
  },
  {
   "cell_type": "code",
   "execution_count": 2,
   "metadata": {
    "scrolled": true
   },
   "outputs": [
    {
     "name": "stdout",
     "output_type": "stream",
     "text": [
      "Collecting pymongo\n",
      "  Downloading https://files.pythonhosted.org/packages/ec/93/dfcd3f8ef506d94fa87cc1e0a312b06fac0a57aa5d264ab016522dad4c31/pymongo-3.11.3-cp37-cp37m-win_amd64.whl (382kB)\n",
      "Installing collected packages: pymongo\n",
      "Successfully installed pymongo-3.11.3\n"
     ]
    }
   ],
   "source": [
    "! pip install pymongo"
   ]
  },
  {
   "cell_type": "code",
   "execution_count": 3,
   "metadata": {},
   "outputs": [],
   "source": [
    "from pymongo import MongoClient\n",
    "import pandas as pd\n",
    "\n",
    "# connect to local mongodb database\n",
    "\n",
    "MONGO_HOST='mongodb://localhost:27017/tweets'\n",
    "\n",
    "client=MongoClient(MONGO_HOST)\n",
    "\n",
    "#select tweets database\n",
    "\n",
    "db=client['tweets']                "
   ]
  },
  {
   "cell_type": "code",
   "execution_count": 4,
   "metadata": {},
   "outputs": [
    {
     "name": "stdout",
     "output_type": "stream",
     "text": [
      "@POTUS Where is Biden? #biden #kayleighmcenany\n",
      "RT @naretevduorp: The biggest difference between Obama/Biden and Biden/Harris . . .\n",
      "\n",
      "Biden/Harris is better at celebrating success.\n",
      "\n",
      "But th…\n",
      "RT @naretevduorp: The biggest difference between Obama/Biden and Biden/Harris . . .\n",
      "\n",
      "Biden/Harris is better at celebrating success.\n",
      "\n",
      "But th…\n",
      "RT @naretevduorp: The biggest difference between Obama/Biden and Biden/Harris . . .\n",
      "\n",
      "Biden/Harris is better at celebrating success.\n",
      "\n",
      "But th…\n",
      "RT @naretevduorp: The biggest difference between Obama/Biden and Biden/Harris . . .\n",
      "\n",
      "Biden/Harris is better at celebrating success.\n",
      "\n",
      "But th…\n"
     ]
    }
   ],
   "source": [
    "result=db.vaccine_tweets.find({\"$text\": \n",
    "    {\"$search\": \"Biden Mask\"}\n",
    "},\n",
    "    {\"text\":1,\n",
    "    \"created_at\":1,\n",
    "    \"_id\":0\n",
    "})\n",
    "\n",
    "for i in range(5):\n",
    "    print(result[i]['text'])"
   ]
  },
  {
   "cell_type": "code",
   "execution_count": 5,
   "metadata": {},
   "outputs": [
    {
     "name": "stdout",
     "output_type": "stream",
     "text": [
      "{'_id': '#covid', 'frequency': 96}\n",
      "{'_id': '#vaccinepassport', 'frequency': 88}\n",
      "{'_id': '#southparq', 'frequency': 82}\n",
      "{'_id': '#oxfordvaccine\\n#pf…', 'frequency': 52}\n",
      "{'_id': '#capitolriot/#insurrection,', 'frequency': 49}\n",
      "{'_id': '#rondesantis', 'frequency': 49}\n",
      "{'_id': '#covid-19', 'frequency': 47}\n",
      "{'_id': '#lockdown', 'frequency': 39}\n",
      "{'_id': '#milvax:', 'frequency': 36}\n",
      "{'_id': '#atmanirbharbharat', 'frequency': 35}\n"
     ]
    }
   ],
   "source": [
    "# display top 10 hashtags\n",
    "\n",
    "pipeline=[\n",
    "    {\"$addFields\": {\"textArray\": {\"$split\": [\"$text\", \" \"]}}},\n",
    "    {\"$unwind\": \"$textArray\"},\n",
    "    {\"$addFields\": {\"textArray\": {\"$toLower\": \"$textArray\"}}},\n",
    "    {\"$match\": {\"textArray\": {\"$regex\":\"^#\"}}},\n",
    "    {\"$match\": {\"textArray\": {\"$nin\": [\"#covid19\", \"#cov…\", \"#vaccine\", \"#coronavirus\"]}}},\n",
    "    {\"$group\": {\n",
    "        \"_id\": \"$textArray\",\n",
    "        \"frequency\": {\"$sum\":1}\n",
    "    }},\n",
    "    {\"$sort\": {\"frequency\":-1}},\n",
    "    {\"$limit\":10}\n",
    "]\n",
    "\n",
    "result=db.vaccine_tweets.aggregate(pipeline)\n",
    "\n",
    "for res in result:\n",
    "    print(res)"
   ]
  },
  {
   "cell_type": "code",
   "execution_count": 7,
   "metadata": {},
   "outputs": [],
   "source": [
    "# create a function to display top n hashtags\n",
    "\n",
    "def topNHashtags(n):\n",
    "    pipeline=[\n",
    "    {\"$addFields\": {\"textArray\": {\"$split\": [\"$text\", \" \"]}}},\n",
    "    {\"$unwind\": \"$textArray\"},\n",
    "    {\"$addFields\": {\"textArray\": {\"$toLower\": \"$textArray\"}}},\n",
    "    {\"$match\": {\"textArray\": {\"$regex\":\"^#\"}}},\n",
    "    {\"$match\": {\"textArray\": {\"$nin\": [\"#covid19\", \"#cov…\", \"#vaccine\", \"#coronavirus\"]}}},\n",
    "    {\"$group\": {\n",
    "        \"_id\": \"$textArray\",\n",
    "        \"frequency\": {\"$sum\":1}\n",
    "    }},\n",
    "    {\"$sort\": {\"frequency\":-1}},\n",
    "    {\"$limit\":n}\n",
    "]\n",
    "\n",
    "    result=db.vaccine_tweets.aggregate(pipeline)\n",
    "    result_list=[]\n",
    "\n",
    "    for res in result:\n",
    "        #print(res)\n",
    "        result_list.append(res)\n",
    "    \n",
    "    return result_list"
   ]
  },
  {
   "cell_type": "code",
   "execution_count": 8,
   "metadata": {},
   "outputs": [
    {
     "data": {
      "text/plain": [
       "[{'_id': '#covid', 'frequency': 96},\n",
       " {'_id': '#vaccinepassport', 'frequency': 88},\n",
       " {'_id': '#southparq', 'frequency': 82},\n",
       " {'_id': '#oxfordvaccine\\n#pf…', 'frequency': 52},\n",
       " {'_id': '#rondesantis', 'frequency': 49},\n",
       " {'_id': '#capitolriot/#insurrection,', 'frequency': 49},\n",
       " {'_id': '#covid-19', 'frequency': 47},\n",
       " {'_id': '#lockdown', 'frequency': 39},\n",
       " {'_id': '#milvax:', 'frequency': 36},\n",
       " {'_id': '#atmanirbharbharat', 'frequency': 35}]"
      ]
     },
     "execution_count": 8,
     "metadata": {},
     "output_type": "execute_result"
    }
   ],
   "source": [
    "result_list=topNHashtags(10)\n",
    "result_list"
   ]
  },
  {
   "cell_type": "code",
   "execution_count": 9,
   "metadata": {},
   "outputs": [
    {
     "data": {
      "text/html": [
       "<div>\n",
       "<style scoped>\n",
       "    .dataframe tbody tr th:only-of-type {\n",
       "        vertical-align: middle;\n",
       "    }\n",
       "\n",
       "    .dataframe tbody tr th {\n",
       "        vertical-align: top;\n",
       "    }\n",
       "\n",
       "    .dataframe thead th {\n",
       "        text-align: right;\n",
       "    }\n",
       "</style>\n",
       "<table border=\"1\" class=\"dataframe\">\n",
       "  <thead>\n",
       "    <tr style=\"text-align: right;\">\n",
       "      <th></th>\n",
       "      <th>_id</th>\n",
       "      <th>frequency</th>\n",
       "    </tr>\n",
       "  </thead>\n",
       "  <tbody>\n",
       "    <tr>\n",
       "      <th>0</th>\n",
       "      <td>#covid</td>\n",
       "      <td>96</td>\n",
       "    </tr>\n",
       "    <tr>\n",
       "      <th>1</th>\n",
       "      <td>#vaccinepassport</td>\n",
       "      <td>88</td>\n",
       "    </tr>\n",
       "    <tr>\n",
       "      <th>2</th>\n",
       "      <td>#southparq</td>\n",
       "      <td>82</td>\n",
       "    </tr>\n",
       "    <tr>\n",
       "      <th>3</th>\n",
       "      <td>#oxfordvaccine\\n#pf…</td>\n",
       "      <td>52</td>\n",
       "    </tr>\n",
       "    <tr>\n",
       "      <th>4</th>\n",
       "      <td>#rondesantis</td>\n",
       "      <td>49</td>\n",
       "    </tr>\n",
       "    <tr>\n",
       "      <th>5</th>\n",
       "      <td>#capitolriot/#insurrection,</td>\n",
       "      <td>49</td>\n",
       "    </tr>\n",
       "    <tr>\n",
       "      <th>6</th>\n",
       "      <td>#covid-19</td>\n",
       "      <td>47</td>\n",
       "    </tr>\n",
       "    <tr>\n",
       "      <th>7</th>\n",
       "      <td>#lockdown</td>\n",
       "      <td>39</td>\n",
       "    </tr>\n",
       "    <tr>\n",
       "      <th>8</th>\n",
       "      <td>#milvax:</td>\n",
       "      <td>36</td>\n",
       "    </tr>\n",
       "    <tr>\n",
       "      <th>9</th>\n",
       "      <td>#atmanirbharbharat</td>\n",
       "      <td>35</td>\n",
       "    </tr>\n",
       "  </tbody>\n",
       "</table>\n",
       "</div>"
      ],
      "text/plain": [
       "                           _id  frequency\n",
       "0                       #covid         96\n",
       "1             #vaccinepassport         88\n",
       "2                   #southparq         82\n",
       "3         #oxfordvaccine\\n#pf…         52\n",
       "4                 #rondesantis         49\n",
       "5  #capitolriot/#insurrection,         49\n",
       "6                    #covid-19         47\n",
       "7                    #lockdown         39\n",
       "8                     #milvax:         36\n",
       "9           #atmanirbharbharat         35"
      ]
     },
     "execution_count": 9,
     "metadata": {},
     "output_type": "execute_result"
    }
   ],
   "source": [
    "#covert the result to a python data frame\n",
    "result_pd=pd.DataFrame(list(result_list))\n",
    "result_pd"
   ]
  },
  {
   "cell_type": "code",
   "execution_count": 10,
   "metadata": {},
   "outputs": [
    {
     "data": {
      "text/plain": [
       "Text(0.5, 1.0, 'Top 10 Hashtags for Covid-19 Vaccine ')"
      ]
     },
     "execution_count": 10,
     "metadata": {},
     "output_type": "execute_result"
    },
    {
     "data": {
      "image/png": "[encoded data removed]",
      "text/plain": [
       "<Figure size 432x288 with 1 Axes>"
      ]
     },
     "metadata": {
      "needs_background": "light"
     },
     "output_type": "display_data"
    }
   ],
   "source": [
    "#visualize the result\n",
    "\n",
    "import matplotlib.pyplot as plt\n",
    "%matplotlib inline\n",
    "\n",
    "x=result_pd['_id']\n",
    "y=result_pd['frequency']\n",
    "\n",
    "plt.barh(x,y, color=\"purple\")\n",
    "plt.xlabel(\"Numer of Tweets\")\n",
    "plt.title(\"Top 10 Hashtags for Covid-19 Vaccine \")"
   ]
  }
 ],
 "metadata": {
  "kernelspec": {
   "display_name": "Python 3",
   "language": "python",
   "name": "python3"
  },
  "language_info": {
   "codemirror_mode": {
    "name": "ipython",
    "version": 3
   },
   "file_extension": ".py",
   "mimetype": "text/x-python",
   "name": "python",
   "nbconvert_exporter": "python",
   "pygments_lexer": "ipython3",
   "version": "3.7.4"
  },
  "toc": {
   "base_numbering": 1,
   "nav_menu": {},
   "number_sections": true,
   "sideBar": true,
   "skip_h1_title": false,
   "title_cell": "Table of Contents",
   "title_sidebar": "Contents",
   "toc_cell": false,
   "toc_position": {},
   "toc_section_display": true,
   "toc_window_display": false
  }
 },
 "nbformat": 4,
 "nbformat_minor": 2
}
